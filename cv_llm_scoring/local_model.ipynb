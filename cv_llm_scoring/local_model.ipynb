{
 "cells": [
  {
   "cell_type": "code",
   "execution_count": 4,
   "id": "82ea1813",
   "metadata": {},
   "outputs": [
    {
     "name": "stderr",
     "output_type": "stream",
     "text": [
      "Note: Environment variable`HF_TOKEN` is set and is the current active token independently from the token you've just configured.\n"
     ]
    }
   ],
   "source": [
    "import os\n",
    "from dotenv import load_dotenv\n",
    "from huggingface_hub import login\n",
    "login(os.getenv(\"HF_TOKEN\"))"
   ]
  },
  {
   "cell_type": "code",
   "execution_count": 1,
   "id": "1c041fd6",
   "metadata": {},
   "outputs": [
    {
     "name": "stderr",
     "output_type": "stream",
     "text": [
      "/home/sapien/dev/ml/langchain_tutorial/.lchain/lib/python3.12/site-packages/huggingface_hub/file_download.py:980: UserWarning: `local_dir_use_symlinks` parameter is deprecated and will be ignored. The process to download files to a local folder has been updated and do not rely on symlinks anymore. You only need to pass a destination folder as`local_dir`.\n",
      "For more details, check out https://huggingface.co/docs/huggingface_hub/main/en/guides/download#download-files-to-local-folder.\n",
      "  warnings.warn(\n"
     ]
    },
    {
     "data": {
      "application/vnd.jupyter.widget-view+json": {
       "model_id": "797e06a6ad304326a31f3eb417288f9e",
       "version_major": 2,
       "version_minor": 0
      },
      "text/plain": [
       "Fetching 15 files:   0%|          | 0/15 [00:00<?, ?it/s]"
      ]
     },
     "metadata": {},
     "output_type": "display_data"
    },
    {
     "data": {
      "application/vnd.jupyter.widget-view+json": {
       "model_id": "e9da7f4c204d4f5ab315b9d870cc7c57",
       "version_major": 2,
       "version_minor": 0
      },
      "text/plain": [
       "config.json:   0%|          | 0.00/736 [00:00<?, ?B/s]"
      ]
     },
     "metadata": {},
     "output_type": "display_data"
    },
    {
     "data": {
      "application/vnd.jupyter.widget-view+json": {
       "model_id": "049afd854f4b41bf8bbcb1709c9f65e6",
       "version_major": 2,
       "version_minor": 0
      },
      "text/plain": [
       "LICENSE: 0.00B [00:00, ?B/s]"
      ]
     },
     "metadata": {},
     "output_type": "display_data"
    },
    {
     "data": {
      "application/vnd.jupyter.widget-view+json": {
       "model_id": "3d9e08ecc2094da2b3099bc332fd0252",
       "version_major": 2,
       "version_minor": 0
      },
      "text/plain": [
       "SECURITY.md: 0.00B [00:00, ?B/s]"
      ]
     },
     "metadata": {},
     "output_type": "display_data"
    },
    {
     "data": {
      "application/vnd.jupyter.widget-view+json": {
       "model_id": "11b904a71ab04269bb199b61561386cc",
       "version_major": 2,
       "version_minor": 0
      },
      "text/plain": [
       "added_tokens.json: 0.00B [00:00, ?B/s]"
      ]
     },
     "metadata": {},
     "output_type": "display_data"
    },
    {
     "data": {
      "application/vnd.jupyter.widget-view+json": {
       "model_id": "a6fac0764d594023a19482255012f74d",
       "version_major": 2,
       "version_minor": 0
      },
      "text/plain": [
       ".gitattributes: 0.00B [00:00, ?B/s]"
      ]
     },
     "metadata": {},
     "output_type": "display_data"
    },
    {
     "data": {
      "application/vnd.jupyter.widget-view+json": {
       "model_id": "36263c65db8a4b8385ce8f03f0dc3428",
       "version_major": 2,
       "version_minor": 0
      },
      "text/plain": [
       "NOTICE.md: 0.00B [00:00, ?B/s]"
      ]
     },
     "metadata": {},
     "output_type": "display_data"
    },
    {
     "data": {
      "application/vnd.jupyter.widget-view+json": {
       "model_id": "491e8191398f47ffb35023e1ceef7366",
       "version_major": 2,
       "version_minor": 0
      },
      "text/plain": [
       "README.md: 0.00B [00:00, ?B/s]"
      ]
     },
     "metadata": {},
     "output_type": "display_data"
    },
    {
     "data": {
      "application/vnd.jupyter.widget-view+json": {
       "model_id": "0115722e18604041978d30cf7b33680d",
       "version_major": 2,
       "version_minor": 0
      },
      "text/plain": [
       "model.safetensors:   0%|          | 0.00/2.84G [00:00<?, ?B/s]"
      ]
     },
     "metadata": {},
     "output_type": "display_data"
    },
    {
     "data": {
      "application/vnd.jupyter.widget-view+json": {
       "model_id": "a1148339c34443f794dae73b85843709",
       "version_major": 2,
       "version_minor": 0
      },
      "text/plain": [
       "special_tokens_map.json:   0%|          | 0.00/99.0 [00:00<?, ?B/s]"
      ]
     },
     "metadata": {},
     "output_type": "display_data"
    },
    {
     "data": {
      "application/vnd.jupyter.widget-view+json": {
       "model_id": "83e421d4d7b2440ebf094cf47a86919f",
       "version_major": 2,
       "version_minor": 0
      },
      "text/plain": [
       "merges.txt: 0.00B [00:00, ?B/s]"
      ]
     },
     "metadata": {},
     "output_type": "display_data"
    },
    {
     "data": {
      "application/vnd.jupyter.widget-view+json": {
       "model_id": "a17a5c178a154834b1a6c4a61e24fc9a",
       "version_major": 2,
       "version_minor": 0
      },
      "text/plain": [
       "generation_config.json:   0%|          | 0.00/74.0 [00:00<?, ?B/s]"
      ]
     },
     "metadata": {},
     "output_type": "display_data"
    },
    {
     "data": {
      "application/vnd.jupyter.widget-view+json": {
       "model_id": "b3b01211f5184653b55c768f98def47f",
       "version_major": 2,
       "version_minor": 0
      },
      "text/plain": [
       "tokenizer.json: 0.00B [00:00, ?B/s]"
      ]
     },
     "metadata": {},
     "output_type": "display_data"
    },
    {
     "data": {
      "application/vnd.jupyter.widget-view+json": {
       "model_id": "d315e048bc0e4887ac81c65d3f425c85",
       "version_major": 2,
       "version_minor": 0
      },
      "text/plain": [
       "tokenizer_config.json:   0%|          | 0.00/237 [00:00<?, ?B/s]"
      ]
     },
     "metadata": {},
     "output_type": "display_data"
    },
    {
     "data": {
      "application/vnd.jupyter.widget-view+json": {
       "model_id": "ed4fc655d63e4b42b5b279d82f61e0ff",
       "version_major": 2,
       "version_minor": 0
      },
      "text/plain": [
       "vocab.json: 0.00B [00:00, ?B/s]"
      ]
     },
     "metadata": {},
     "output_type": "display_data"
    },
    {
     "data": {
      "application/vnd.jupyter.widget-view+json": {
       "model_id": "e342b96f61344bbb96d9a456c6a2ec1f",
       "version_major": 2,
       "version_minor": 0
      },
      "text/plain": [
       "CODE_OF_CONDUCT.md:   0%|          | 0.00/444 [00:00<?, ?B/s]"
      ]
     },
     "metadata": {},
     "output_type": "display_data"
    },
    {
     "name": "stderr",
     "output_type": "stream",
     "text": [
      "Error while downloading from https://cdn-lfs.hf.co/repos/5d/4e/5d4ee8c8a3b7b1f7cb52d178f9d5a5cedd5bf77d68fcfe7b2b6bda4dde4cba52/b4f562cc4b12f1154a0b658b9d74ab9d024a686420fdf154ebc00a2219976df7?response-content-disposition=inline%3B+filename*%3DUTF-8%27%27model.safetensors%3B+filename%3D%22model.safetensors%22%3B&Expires=1751249178&Policy=eyJTdGF0ZW1lbnQiOlt7IkNvbmRpdGlvbiI6eyJEYXRlTGVzc1RoYW4iOnsiQVdTOkVwb2NoVGltZSI6MTc1MTI0OTE3OH19LCJSZXNvdXJjZSI6Imh0dHBzOi8vY2RuLWxmcy5oZi5jby9yZXBvcy81ZC80ZS81ZDRlZThjOGEzYjdiMWY3Y2I1MmQxNzhmOWQ1YTVjZWRkNWJmNzdkNjhmY2ZlN2IyYjZiZGE0ZGRlNGNiYTUyL2I0ZjU2MmNjNGIxMmYxMTU0YTBiNjU4YjlkNzRhYjlkMDI0YTY4NjQyMGZkZjE1NGViYzAwYTIyMTk5NzZkZjc%7EcmVzcG9uc2UtY29udGVudC1kaXNwb3NpdGlvbj0qIn1dfQ__&Signature=Rg9lJkmyrx58eJGN837a5zSNUEF1u50mB5tikHM3MOSsHDPWLkOHFoIoTvTZtK5tb0MnM4rb9czUkhepB6AGxkGk3OM76POrrWKsXZuujyFKNf7jlYi757x4O270UdFA5guFmH7qGI3kNRmclsfphonaIDvsd5dJnC6-NxVbwyfigpq2%7ErcKY86bTvW3ZVia709dfUdIzSoN1MQcpl8qyXah6lD6esrJAGkeSsV1JHJ0eRu0qRxK%7EHMl3cWT1Wnq5FGWRtNVYKYZDm9bHUjHIUKqgvlzf8-Wm4p9RvYb-TgpqrKN9pfQm5XYpq5tZMfDZkI-2ddMkHgKD29Q46Bt5g__&Key-Pair-Id=K3RPWS32NSSJCE: HTTPSConnectionPool(host='cdn-lfs.hf.co', port=443): Read timed out.\n",
      "Trying to resume download...\n"
     ]
    },
    {
     "data": {
      "application/vnd.jupyter.widget-view+json": {
       "model_id": "c2f16114f84e49e99def53e13e6cd50a",
       "version_major": 2,
       "version_minor": 0
      },
      "text/plain": [
       "model.safetensors:  10%|9         | 315M/3.15G [00:00<?, ?B/s]"
      ]
     },
     "metadata": {},
     "output_type": "display_data"
    },
    {
     "name": "stderr",
     "output_type": "stream",
     "text": [
      "Error while downloading from https://cdn-lfs.hf.co/repos/5d/4e/5d4ee8c8a3b7b1f7cb52d178f9d5a5cedd5bf77d68fcfe7b2b6bda4dde4cba52/b4f562cc4b12f1154a0b658b9d74ab9d024a686420fdf154ebc00a2219976df7?response-content-disposition=inline%3B+filename*%3DUTF-8%27%27model.safetensors%3B+filename%3D%22model.safetensors%22%3B&Expires=1751249178&Policy=eyJTdGF0ZW1lbnQiOlt7IkNvbmRpdGlvbiI6eyJEYXRlTGVzc1RoYW4iOnsiQVdTOkVwb2NoVGltZSI6MTc1MTI0OTE3OH19LCJSZXNvdXJjZSI6Imh0dHBzOi8vY2RuLWxmcy5oZi5jby9yZXBvcy81ZC80ZS81ZDRlZThjOGEzYjdiMWY3Y2I1MmQxNzhmOWQ1YTVjZWRkNWJmNzdkNjhmY2ZlN2IyYjZiZGE0ZGRlNGNiYTUyL2I0ZjU2MmNjNGIxMmYxMTU0YTBiNjU4YjlkNzRhYjlkMDI0YTY4NjQyMGZkZjE1NGViYzAwYTIyMTk5NzZkZjc%7EcmVzcG9uc2UtY29udGVudC1kaXNwb3NpdGlvbj0qIn1dfQ__&Signature=Rg9lJkmyrx58eJGN837a5zSNUEF1u50mB5tikHM3MOSsHDPWLkOHFoIoTvTZtK5tb0MnM4rb9czUkhepB6AGxkGk3OM76POrrWKsXZuujyFKNf7jlYi757x4O270UdFA5guFmH7qGI3kNRmclsfphonaIDvsd5dJnC6-NxVbwyfigpq2%7ErcKY86bTvW3ZVia709dfUdIzSoN1MQcpl8qyXah6lD6esrJAGkeSsV1JHJ0eRu0qRxK%7EHMl3cWT1Wnq5FGWRtNVYKYZDm9bHUjHIUKqgvlzf8-Wm4p9RvYb-TgpqrKN9pfQm5XYpq5tZMfDZkI-2ddMkHgKD29Q46Bt5g__&Key-Pair-Id=K3RPWS32NSSJCE: HTTPSConnectionPool(host='cdn-lfs.hf.co', port=443): Read timed out.\n",
      "Trying to resume download...\n"
     ]
    },
    {
     "data": {
      "application/vnd.jupyter.widget-view+json": {
       "model_id": "fcf35141cd634c32958bbdf36af0dde3",
       "version_major": 2,
       "version_minor": 0
      },
      "text/plain": [
       "model.safetensors:  31%|###       | 1.26G/4.09G [00:00<?, ?B/s]"
      ]
     },
     "metadata": {},
     "output_type": "display_data"
    },
    {
     "data": {
      "text/plain": [
       "'/home/sapien/dev/projects/Job-Sniff/cv_llm_scoring/models/phi-1_5'"
      ]
     },
     "execution_count": 1,
     "metadata": {},
     "output_type": "execute_result"
    }
   ],
   "source": [
    "from huggingface_hub import snapshot_download\n",
    "\n",
    "repo = \"microsoft/phi-1_5\"\n",
    "snapshot_download(\n",
    "    repo_id=repo,\n",
    "    local_dir=\"./models/phi-1_5\",\n",
    "    local_dir_use_symlinks=False  # optional, but ensures full copy\n",
    ")\n"
   ]
  },
  {
   "cell_type": "code",
   "execution_count": 2,
   "id": "6df35a1c",
   "metadata": {},
   "outputs": [
    {
     "name": "stdout",
     "output_type": "stream",
     "text": [
      "Free GPU Memory: 7.96 GB\n",
      "Total GPU Memory (from mem_get_info): 7.98 GB\n"
     ]
    }
   ],
   "source": [
    "import torch\n",
    "if torch.cuda.is_available():\n",
    "    free_memory, total_memory_info = torch.cuda.mem_get_info()\n",
    "    print(f\"Free GPU Memory: {free_memory / (1024**3):.2f} GB\")\n",
    "    print(f\"Total GPU Memory (from mem_get_info): {total_memory_info / (1024**3):.2f} GB\")\n",
    "else:\n",
    "    print(\"CUDA is not available.\")"
   ]
  },
  {
   "cell_type": "code",
   "execution_count": 3,
   "id": "b1bfb998",
   "metadata": {},
   "outputs": [],
   "source": [
    "import torch\n",
    "torch.cuda.empty_cache()\n",
    "torch.cuda.ipc_collect()"
   ]
  },
  {
   "cell_type": "code",
   "execution_count": null,
   "id": "06fcaa5f",
   "metadata": {},
   "outputs": [],
   "source": []
  }
 ],
 "metadata": {
  "kernelspec": {
   "display_name": ".lchain",
   "language": "python",
   "name": "python3"
  },
  "language_info": {
   "codemirror_mode": {
    "name": "ipython",
    "version": 3
   },
   "file_extension": ".py",
   "mimetype": "text/x-python",
   "name": "python",
   "nbconvert_exporter": "python",
   "pygments_lexer": "ipython3",
   "version": "3.12.10"
  }
 },
 "nbformat": 4,
 "nbformat_minor": 5
}
