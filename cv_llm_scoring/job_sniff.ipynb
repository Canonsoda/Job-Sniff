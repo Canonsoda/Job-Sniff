{
 "cells": [
  {
   "cell_type": "code",
   "execution_count": 2,
   "id": "ad3b89a8",
   "metadata": {},
   "outputs": [
    {
     "data": {
      "text/plain": [
       "True"
      ]
     },
     "execution_count": 2,
     "metadata": {},
     "output_type": "execute_result"
    }
   ],
   "source": [
    "import os\n",
    "from dotenv import load_dotenv\n",
    "load_dotenv()"
   ]
  },
  {
   "cell_type": "code",
   "execution_count": null,
   "id": "602d45ec",
   "metadata": {},
   "outputs": [],
   "source": [
    "from langchain_community.document_loaders import PyPDFLoader\n",
    "loader = PyPDFLoader(\"./CVs/Curriculum_vitae.pdf\")\n",
    "docs = loader.load()"
   ]
  },
  {
   "cell_type": "code",
   "execution_count": 3,
   "id": "de3733c7",
   "metadata": {},
   "outputs": [],
   "source": [
    "resume_text = \" \".join([doc.page_content for doc in docs])"
   ]
  },
  {
   "cell_type": "code",
   "execution_count": 4,
   "id": "2f8a4496",
   "metadata": {},
   "outputs": [
    {
     "name": "stderr",
     "output_type": "stream",
     "text": [
      "/home/sapien/dev/ml/langchain_tutorial/.lchain/lib/python3.12/site-packages/tqdm/auto.py:21: TqdmWarning: IProgress not found. Please update jupyter and ipywidgets. See https://ipywidgets.readthedocs.io/en/stable/user_install.html\n",
      "  from .autonotebook import tqdm as notebook_tqdm\n"
     ]
    }
   ],
   "source": [
    "from langchain_huggingface import HuggingFaceEndpoint\n",
    "\n",
    "repo_id=\"mistralai/Mistral-7B-Instruct-v0.3\"\n",
    "llm = HuggingFaceEndpoint(repo_id= repo_id ,max_new_tokens=1024 ,temperature=0.2 ,huggingfacehub_api_token=os.getenv(\"HF_TOKEN\"),task=\"text-generation\") "
   ]
  },
  {
   "cell_type": "code",
   "execution_count": 5,
   "id": "3fe64ba4",
   "metadata": {},
   "outputs": [],
   "source": [
    "from langchain import PromptTemplate, LLMChain\n",
    "\n",
    "template = \"\"\"\n",
    "You are an expert resume parser.Return only the JSON block and nothing else. Do not add commentary or labels like 'JSON Output:'.\n",
    "Extract structured data from the following resume text and return it in the exact JSON format below:\n",
    "\n",
    "{{\n",
    "  \"extractedData\": {{\n",
    "    \"name\": \"Full Name\",\n",
    "    \"email\": \"email@example.com\",\n",
    "    \"phone\": \"1234567890\",\n",
    "    \"skills\": [\"Skill1\", \"Skill2\"],\n",
    "    \"cgpa\": \"8.5\",\n",
    "    \"shortlisted\": false,\n",
    "    \"education\": [\n",
    "      {{\n",
    "        \"level\": \"Degree\",\n",
    "        \"institution\": \"Institute Name\",\n",
    "        \"board\": \"Board/University\",\n",
    "        \"year\": \"Year\",\n",
    "        \"percentage\": \"Percentage\"\n",
    "      }}\n",
    "    ],\n",
    "    \"workExperience\": [\n",
    "      {{\n",
    "        \"position\": \"Intern\",\n",
    "        \"company\": \"Company\",\n",
    "        \"duration\": \"Duration\",\n",
    "        \"description\": \"What the candidate did.\"\n",
    "      }}\n",
    "    ]\n",
    "  }}\n",
    "}ValueError: Model mistralai/Mistral-7B-Instruct-v0.3 is not supported for task text-generation and provider novita. Supported task: conversational.}\n",
    "\n",
    "Resume Text:\n",
    "{resume_text}\n",
    "\"\"\"\n",
    "\n",
    "template2 = \"\"\"\n",
    "You are an expert resume parser. Extract structured data from the following resume text and return it in the exact JSON format below. Additionally, based on the skills listed, add a 'suggestions' field that contains:\n",
    "- 'commonSkills': widely used industry skills (e.g., Python, SQL)\n",
    "- 'uniqueSkills': specialized, niche, or rare skills (e.g., Langchain, Huggingface)\n",
    "\n",
    "Respond only with valid JSON in the exact format shown:\n",
    "\n",
    "{{\n",
    "  \"extractedData\": {{\n",
    "    \"name\": \"Full Name\",\n",
    "    \"email\": \"email@example.com\",\n",
    "    \"phone\": \"1234567890\",\n",
    "    \"skills\": [\"Skill1\", \"Skill2\"],\n",
    "    \"cgpa\": \"8.5\",\n",
    "    \"shortlisted\": false,\n",
    "    \"education\": [\n",
    "      {{\n",
    "        \"level\": \"Degree\",\n",
    "        \"institution\": \"Institute Name\",\n",
    "        \"board\": \"Board/University\",\n",
    "        \"year\": \"Year\",\n",
    "        \"percentage\": \"Percentage\"\n",
    "      }}\n",
    "    ],\n",
    "    \"workExperience\": [\n",
    "      {{\n",
    "        \"position\": \"Intern\",\n",
    "        \"company\": \"Company\",\n",
    "        \"duration\": \"Duration\",\n",
    "        \"description\": \"What the candidate did.\"\n",
    "      }}\n",
    "    ],\n",
    "    \"suggestions\": {{\n",
    "      \"commonSkills\": [\"CommonSkill1\", \"CommonSkill2\"],\n",
    "      \"uniqueSkills\": [\"UniqueSkill1\", \"UniqueSkill2\"]\n",
    "    }}\n",
    "  }}\n",
    "}}\n",
    "\n",
    "Resume Text:\n",
    "{resume_text}\n",
    "\"\"\"\n",
    "\n",
    "prompt = PromptTemplate(template=template2, input_variables=[\"resume_text\"])\n",
    "llm_chain = prompt | llm\n",
    "output = llm_chain.invoke(resume_text)"
   ]
  },
  {
   "cell_type": "code",
   "execution_count": 6,
   "id": "807f1fda",
   "metadata": {},
   "outputs": [
    {
     "name": "stdout",
     "output_type": "stream",
     "text": [
      "• TensorFlow Developer Certificate View Certificate\n",
      "• Kaggle Competitions: 5 Top 10 Performances\n",
      "\n",
      "JSON Response:\n",
      "\n",
      "{\n",
      "  \"extractedData\": {\n",
      "    \"name\": \"AADITYA RAJ\",\n",
      "    \"email\": \"helloaadityahere@gmail.com\",\n",
      "    \"phone\": \"1234567890\",\n",
      "    \"skills\": [\"Python\", \"C/C++\", \"SQL\", \"Tensorflow\", \"PyTorch\", \"Keras\", \"Huggingface\", \"Langchain\", \"Git\", \"Docker\", \"Jupyter-Notebook\", \"VS Code\", \"PyCharm\", \"Pandas\", \"NumPy\", \"Matplotlib\"],\n",
      "    \"cgpa\": \"8.28\",\n",
      "    \"shortlisted\": false,\n",
      "    \"education\": [\n",
      "      {\n",
      "        \"level\": \"Bachelor of Technology\",\n",
      "        \"institution\": \"Birla Institute of Technology, Mesra\",\n",
      "        \"board\": \"Not Mentioned\",\n",
      "        \"year\": \"Present\",\n",
      "        \"percentage\": \"8.28\"\n",
      "      },\n",
      "      {\n",
      "        \"level\": \"12th\",\n",
      "        \"institution\": \"Delhi Public School, Ranchi\",\n",
      "        \"board\": \"Not Mentioned\",\n",
      "        \"year\": \"2023\",\n",
      "        \"percentage\": \"96.6\"\n",
      "      }\n",
      "    ],\n",
      "    \"workExperience\": [\n",
      "      {\n",
      "        \"position\": \"Research Assistant\",\n",
      "        \"company\": \"Birla Institute of Technology, Mesra\",\n",
      "        \"duration\": \"Present\",\n",
      "        \"description\": \"Working under a professor to replicate and enhance the findings of the paper Powe of Alignment: Exploring the effect of face alignment on ASD Diagnosis using facial images. Investigating the impact of facial alignment on the accuracy of ASD diagnosis using deep learning models trained on facial image datasets. Fine-tuning state-of-the-art CNN architectures such as ResNet50, MobileNet, and Xception to evaluate performance changes due to alignment techniques. Experimenting with various face detection and preprocessing pipelines to optimize diagnostic accuracy and model generalization.\"\n",
      "      }\n",
      "    ],\n",
      "    \"suggestions\": {\n",
      "      \"commonSkills\": [\"Python\", \"SQL\", \"Tensorflow\", \"Pandas\", \"NumPy\"],\n",
      "      \"uniqueSkills\": [\"C/C++\", \"Keras\", \"Huggingface\", \"Langchain\", \"Git\", \"Docker\", \"Jupyter-Notebook\", \"VS Code\", \"PyCharm\", \"ResNet50\", \"MobileNet\", \"Xception\"]\n",
      "    }\n",
      "  }\n",
      "}\n"
     ]
    }
   ],
   "source": [
    "print(output)"
   ]
  },
  {
   "cell_type": "code",
   "execution_count": 7,
   "id": "4d5eeb65",
   "metadata": {},
   "outputs": [
    {
     "name": "stdout",
     "output_type": "stream",
     "text": [
      "fixed and saved to parsed_resume.json\n"
     ]
    }
   ],
   "source": [
    "import json\n",
    "import re\n",
    "from json_repair import repair_json\n",
    "\n",
    "raw_output = output['text'] if isinstance(output, dict) and 'text' in output else output\n",
    "match = re.search(r'\\{[\\s\\S]*\\}', raw_output)\n",
    "if not match:\n",
    "    raise ValueError(\"could not find a json block in the output.\")\n",
    "\n",
    "json_str = match.group(0)\n",
    "good_json_str = repair_json(json_str)\n",
    "\n",
    "try:\n",
    "    parsed_data = json.loads(good_json_str)\n",
    "    with open(\"parsed_resume.json\", \"w\") as f:\n",
    "        json.dump(parsed_data, f, indent=2)\n",
    "    print(\"fixed and saved to parsed_resume.json\")\n",
    "except json.JSONDecodeError as e:\n",
    "    print(\"still broken:\", e)\n",
    "    print(good_json_str[:500])"
   ]
  },
  {
   "cell_type": "code",
   "execution_count": null,
   "id": "e0b528da",
   "metadata": {},
   "outputs": [],
   "source": [
    "\"\"\"\n",
    "weightage given \n",
    "1. skill match : 40%\n",
    "2. education : 15%\n",
    "3. cgpa_score : 10%\n",
    "4. exp_score : 25%\n",
    "5. cert_score : 0.1%\n",
    "\"\"\"\n",
    "\n",
    "def compute_score(parsed_json, job_description):\n",
    "    required_skills = set(job_description[\"skills\"])\n",
    "    candidate_skills = set(parsed_json[\"extractedData\"][\"skills\"])\n",
    "    \n",
    "    skill_match = len(required_skills & candidate_skills) / len(required_skills) if required_skills else 0\n",
    "\n",
    "    education_entries = parsed_json[\"extractedData\"][\"education\"]\n",
    "    has_required_degree = any(\"bachelor\" in e[\"level\"].lower() for e in education_entries)\n",
    "    education_score = 1.0 if has_required_degree else 0.5\n",
    "\n",
    "    cgpa = float(parsed_json[\"extractedData\"].get(\"cgpa\", 0))\n",
    "    cgpa_score = min(cgpa / 10, 1.0)\n",
    "\n",
    "    experience = parsed_json[\"extractedData\"].get(\"workExperience\", [])\n",
    "    exp_score = 1.0 if experience else 0.0  \n",
    "\n",
    "    certifications = parsed_json[\"extractedData\"].get(\"certifications\", [])\n",
    "    cert_score = 1.0 if certifications else 0.0\n",
    "\n",
    "    final_score = (\n",
    "        skill_match * 0.4 +\n",
    "        education_score * 0.15 +\n",
    "        cgpa_score * 0.1 +\n",
    "        exp_score * 0.25 +\n",
    "        cert_score * 0.1\n",
    "    ) * 100\n",
    "\n",
    "    return round(final_score, 2)"
   ]
  },
  {
   "cell_type": "code",
   "execution_count": null,
   "id": "4bbf198c",
   "metadata": {},
   "outputs": [],
   "source": []
  }
 ],
 "metadata": {
  "kernelspec": {
   "display_name": ".lchain",
   "language": "python",
   "name": "python3"
  },
  "language_info": {
   "codemirror_mode": {
    "name": "ipython",
    "version": 3
   },
   "file_extension": ".py",
   "mimetype": "text/x-python",
   "name": "python",
   "nbconvert_exporter": "python",
   "pygments_lexer": "ipython3",
   "version": "3.12.10"
  }
 },
 "nbformat": 4,
 "nbformat_minor": 5
}
